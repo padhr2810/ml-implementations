{
 "cells": [
  {
   "cell_type": "markdown",
   "metadata": {},
   "source": [
    "# Python implementation of Principal Components Analysis\n",
    "This code was mostly produced by Sebastian Raschka. I can recommend his book Python Machine Learning. This book offers a hands-on approach to machine learning with nice code examples. <br>\n",
    "In some places I expand the code and show the implementations for functions (e.g. covariance calculation). The sources are shown. <br>\n",
    "<br>\n",
    "Source of Raschka's original code: <br>\n",
    "Source: http://sebastianraschka.com/Articles/2014_pca_step_by_step.html"
   ]
  },
  {
   "cell_type": "markdown",
   "metadata": {},
   "source": [
    "#### Rationale of PCA.\n",
    "\n",
    "\"The main purposes of a principal component analysis... finding patterns to reduce the dimensions of the dataset with minimal loss of information.\"\n",
    "\n",
    "\"Here, our desired outcome of the principal component analysis is to project a feature space (our dataset consisting of n d-dimensional samples) onto a smaller subspace that represents our data “well”.\" "
   ]
  },
  {
   "cell_type": "markdown",
   "metadata": {},
   "source": [
    "#### Overview\n",
    "\n",
    "PCA = linear transformation method. i.e. produce linear combinations of features. These combinations result in \"components\", and we seek to select the components that maximise variance in our dataset. i.e. reduce the number of features while maintaining most information.\n",
    "PCA ignores class labels so we do not consider how good it is at predicting a specific class. By contrast, MDA (multi-discriminant analysis) considers the class labels.\n",
    "\n",
    "As Raschka writes, \"via PCA, we are projecting the entire set of data (without class labels) onto a different subspace, and in MDA, we are trying to determine a suitable subspace to distinguish between patterns that belong to different classes. Or, roughly speaking in PCA we are trying to find the axes with maximum variances where the data is most spread (within a class, since PCA treats the whole data set as one class), and in MDA we are additionally maximizing the spread between classes. ... In typical pattern recognition problems, a PCA is often followed by an MDA.\"\n",
    "\n",
    "How do we know a component is good: \"Later, we will compute eigenvectors (the components) from our data set and collect them in a so-called scatter-matrix (or alternatively calculate them from the covariance matrix). Each of those eigenvectors is associated with an eigenvalue, which tell us about the “length” or “magnitude” of the eigenvectors. If we observe that all the eigenvalues are of very similar magnitude, this is a good indicator that our data is already in a “good” subspace. Or if some of the eigenvalues are much much higher than others, we might be interested in keeping only those eigenvectors with the much larger eigenvalues, since they contain more information about our data distribution. \""
   ]
  },
  {
   "cell_type": "markdown",
   "metadata": {},
   "source": [
    "#### Generate data (multivariate dataset). Generate 3 x variables (20 observations per variable)\n",
    "#### Inputs: mean & covariance matrix (mu_vec1 & cov_mat1 respectively) (analagous to mean & variance)"
   ]
  },
  {
   "cell_type": "code",
   "execution_count": 1,
   "metadata": {},
   "outputs": [
    {
     "data": {
      "text/plain": [
       "array([[ 1.44916587, -0.26967255,  0.54526949,  0.74758639,  0.80947549,\n",
       "         1.26639345,  1.35454763, -0.94423276,  3.27632435,  0.53238116,\n",
       "         3.51433167,  1.10150088,  1.0376285 ,  0.89319475,  0.80694944,\n",
       "         0.01613778,  1.18540059,  0.54275957,  1.85845596,  2.21014588],\n",
       "       [ 0.49876549, -1.02109047,  0.1072602 ,  2.3771934 ,  0.71847025,\n",
       "        -0.58577396, -0.44409296,  1.79254477, -0.13980842,  0.57904477,\n",
       "         1.89943081,  0.10434477,  0.75745346,  1.47550419,  2.87720696,\n",
       "         1.6280275 ,  1.32334357,  1.38591309,  0.80053257,  1.2061014 ],\n",
       "       [ 2.24984409,  0.551304  ,  2.37479728,  1.37846725,  0.84158419,\n",
       "         0.79283304,  2.3992907 ,  2.1907745 ,  2.60313967, -0.23384966,\n",
       "         1.89926438, -0.06815442,  0.68692472,  4.06404217, -0.28110085,\n",
       "        -0.16521324,  0.9695535 ,  0.64436295, -0.07982832,  1.80543914]])"
      ]
     },
     "execution_count": 1,
     "metadata": {},
     "output_type": "execute_result"
    }
   ],
   "source": [
    "import numpy as np\n",
    "from numpy import linalg\n",
    "\n",
    "### Show all output, not just the last part of each cell:\n",
    "from IPython.core.interactiveshell import InteractiveShell\n",
    "InteractiveShell.ast_node_interactivity = \"all\"\n",
    "\n",
    "np.random.seed(23423) # random seed for consistency\n",
    "\n",
    "mu_vec1 = np.array([0,0,0])\n",
    "cov_mat1 = np.array([[1,0,0],[0,1,0],[0,0,1]])\n",
    "class1_sample = np.random.multivariate_normal(mu_vec1, cov_mat1, 20).T\n",
    "\"\"\"\n",
    "multivariate_normal: Draw random samples from a multivariate normal distribution.\n",
    "    The multivariate normal, multinormal or Gaussian distribution is a\n",
    "    generalization of the one-dimensional normal distribution to higher\n",
    "    dimensions.  Such a distribution is specified by its mean and\n",
    "    covariance matrix.  These parameters are analogous to the mean\n",
    "    (average or \"center\") and variance (standard deviation, or \"width,\"\n",
    "    squared) of the one-dimensional normal distribution.\n",
    "    arguments: (mean, cov[, size])\n",
    "\"\"\"\n",
    "\n",
    "assert class1_sample.shape == (3,20), \"The matrix has not the dimensions 3x20\"\n",
    "\n",
    "\"\"\"\n",
    "assert: Optional message that appears if assert is false: shown in \"\" at the end\n",
    "\"\"\"\n",
    "\n",
    "###### Create 2 x 20 datasets:\n",
    "mu_vec2 = np.array([1,1,1])\n",
    "cov_mat2 = np.array([[1,0,0],[0,1,0],[0,0,1]])\n",
    "class2_sample = np.random.multivariate_normal(mu_vec2, cov_mat2, 20).T\n",
    "assert class2_sample.shape == (3,20), \"The matrix has not the dimensions 3x20\"\n",
    "class2_sample"
   ]
  },
  {
   "cell_type": "markdown",
   "metadata": {},
   "source": [
    "#### Visualise the 2 x classes (each one has the same 3 variables)"
   ]
  },
  {
   "cell_type": "code",
   "execution_count": 2,
   "metadata": {},
   "outputs": [
    {
     "name": "stdout",
     "output_type": "stream",
     "text": [
      "Populating the interactive namespace from numpy and matplotlib\n"
     ]
    },
    {
     "data": {
      "text/plain": [
       "[<mpl_toolkits.mplot3d.art3d.Line3D at 0x22a48cf5da0>]"
      ]
     },
     "execution_count": 2,
     "metadata": {},
     "output_type": "execute_result"
    },
    {
     "data": {
      "text/plain": [
       "[<mpl_toolkits.mplot3d.art3d.Line3D at 0x22a48cf5e10>]"
      ]
     },
     "execution_count": 2,
     "metadata": {},
     "output_type": "execute_result"
    },
    {
     "data": {
      "text/plain": [
       "<matplotlib.text.Text at 0x22a543de9e8>"
      ]
     },
     "execution_count": 2,
     "metadata": {},
     "output_type": "execute_result"
    },
    {
     "data": {
      "text/plain": [
       "<matplotlib.legend.Legend at 0x22a541ee710>"
      ]
     },
     "execution_count": 2,
     "metadata": {},
     "output_type": "execute_result"
    },
    {
     "data": {
      "image/png": "[encoded data removed]",
      "text/plain": [
       "<matplotlib.figure.Figure at 0x22a517d0f98>"
      ]
     },
     "metadata": {},
     "output_type": "display_data"
    }
   ],
   "source": [
    "%pylab inline\n",
    "from matplotlib import pyplot as plt\n",
    "from mpl_toolkits.mplot3d import Axes3D\n",
    "from mpl_toolkits.mplot3d import proj3d\n",
    "\n",
    "fig = plt.figure(figsize=(8,8))\n",
    "ax = fig.add_subplot(111, projection='3d')\n",
    "plt.rcParams['legend.fontsize'] = 10   \n",
    "ax.plot(class1_sample[0,:], class1_sample[1,:], class1_sample[2,:], 'o', markersize=8, color='blue', alpha=0.5, label='class1')\n",
    "ax.plot(class2_sample[0,:], class2_sample[1,:], class2_sample[2,:], '^', markersize=8, alpha=0.5, color='red', label='class2')\n",
    "\n",
    "plt.title('Samples for class 1 and class 2')\n",
    "ax.legend(loc='upper right')\n",
    "\n",
    "plt.show()"
   ]
  },
  {
   "cell_type": "markdown",
   "metadata": {},
   "source": [
    "#### Concatenate all samples together (i.e. agnostic re class in PCA) (i.e. into a 3 x 40 matrix)"
   ]
  },
  {
   "cell_type": "code",
   "execution_count": 3,
   "metadata": {
    "collapsed": true
   },
   "outputs": [],
   "source": [
    "all_samples = np.concatenate((class1_sample, class2_sample), axis=1)\n",
    "assert all_samples.shape == (3,40), \"The matrix has not the dimensions 3x40\""
   ]
  },
  {
   "cell_type": "markdown",
   "metadata": {},
   "source": [
    "#### Calculate mean of each variable: Put the means into a single vector (the vector has **d** dimensions)"
   ]
  },
  {
   "cell_type": "code",
   "execution_count": 4,
   "metadata": {},
   "outputs": [
    {
     "name": "stdout",
     "output_type": "stream",
     "text": [
      "Mean Vector:\n",
      " [[0.59630221]\n",
      " [0.47965616]\n",
      " [0.56413655]]\n"
     ]
    }
   ],
   "source": [
    "mean_x = np.mean(all_samples[0,:])\n",
    "mean_y = np.mean(all_samples[1,:])\n",
    "mean_z = np.mean(all_samples[2,:])\n",
    "\n",
    "mean_vector = np.array([[mean_x],[mean_y],[mean_z]])\n",
    "\n",
    "print('Mean Vector:\\n', mean_vector)"
   ]
  },
  {
   "cell_type": "markdown",
   "metadata": {},
   "source": [
    "#### Just for curiousity, show the Standard Deviation of each variable"
   ]
  },
  {
   "cell_type": "code",
   "execution_count": 5,
   "metadata": {},
   "outputs": [
    {
     "name": "stdout",
     "output_type": "stream",
     "text": [
      "SD Vector:\n",
      " [[1.17001318]\n",
      " [1.11972642]\n",
      " [1.16803876]]\n"
     ]
    }
   ],
   "source": [
    "sd_x = np.std(all_samples[0,:])\n",
    "sd_y = np.std(all_samples[1,:])\n",
    "sd_z = np.std(all_samples[2,:])\n",
    "\n",
    "sd_vector = np.array([[sd_x],[sd_y],[sd_z]])\n",
    "\n",
    "print('SD Vector:\\n', sd_vector)"
   ]
  },
  {
   "cell_type": "markdown",
   "metadata": {},
   "source": [
    "### Create Scatter Matrix:  \n",
    "### Result shape = ( d x d )\n",
    "#### i.e. convert (3x40) into (3x3)\n",
    "Matrix of 9 contains 5 unique values (4x2, + 1) <br>\n",
    "Every time you dot multiply: (dx1).(1xd)  --- resulting in (d x d)"
   ]
  },
  {
   "cell_type": "code",
   "execution_count": 6,
   "metadata": {},
   "outputs": [
    {
     "name": "stdout",
     "output_type": "stream",
     "text": [
      "Scatter Matrix:\n",
      " [[54.75723353  1.26043387 28.81217483]\n",
      " [ 1.26043387 50.1514903   6.1323721 ]\n",
      " [28.81217483  6.1323721  54.57258159]]\n"
     ]
    }
   ],
   "source": [
    "scatter_matrix = np.zeros((3,3))\n",
    "for i in range(all_samples.shape[1]):\n",
    "    scatter_matrix += (all_samples[:,i].reshape(3,1) - mean_vector).dot((all_samples[:,i].reshape(3,1) - mean_vector).T)\n",
    "print('Scatter Matrix:\\n', scatter_matrix)"
   ]
  },
  {
   "cell_type": "markdown",
   "metadata": {},
   "source": [
    "### Eigen-vectors in a scatter matrix\n",
    "#### Values minus Means (twice, as the numerator). Transpose the second one to (1,variable_number). Then DOT multiply to get a 3,3 matrix.\n",
    "compute eigenvectors (the components) from our data set and collect them in a so-called scatter-matrix (or alternatively calculate them from the covariance matrix). Each of those eigenvectors is associated with an eigenvalue, which tell us about the “length” or “magnitude” of the eigenvectors. If we observe that all the eigenvalues are of very similar magnitude, this is a good indicator that our data is already in a “good” subspace. Or if some of the eigenvalues are much much higher than others, we might be interested in keeping only those eigenvectors with the much larger eigenvalues, since they contain more information about our data distribution. Vice versa, eigenvalues that are close to 0 are less informative and we might consider in dropping those when we construct the new feature subspace.\n",
    "\n",
    "** Dot product of two arrays. ** Specifically, <br>\n",
    "If both a and b are 1-D arrays, it is inner product of vectors (without complex conjugation).  <br>\n",
    "If both a and b are 2-D arrays, it is matrix multiplication, but using matmul or a @ b is preferred.  <br>\n",
    "If either a or b is 0-D (scalar), it is equivalent to multiply and using numpy.multiply(a, b) or a * b is preferred. <b>"
   ]
  },
  {
   "cell_type": "markdown",
   "metadata": {},
   "source": [
    "### Covariance matrix (alternative to scatter matrix)\n",
    "Raschka used the function np.cov <br>\n",
    "I show the source code for this function below (I name the function 'covariance' here). \n",
    "Source: https://github.com/numpy/numpy/blob/v1.8.0/numpy/lib/function_base.py#L1648 <br>\n",
    "<br>\n",
    "\"The equations for the covariance matrix and scatter matrix are very similar, the only difference is, that we use the scaling factor 1 / (N−1) (here: 1 / (40−1) = 1 / 39) for the covariance matrix. Thus, their eigenspaces will be identical (identical eigenvectors, only the eigenvalues are scaled differently by a constant factor).\""
   ]
  },
  {
   "cell_type": "markdown",
   "metadata": {},
   "source": [
    "#### Define the covariance matrix function"
   ]
  },
  {
   "cell_type": "code",
   "execution_count": 7,
   "metadata": {},
   "outputs": [
    {
     "name": "stdout",
     "output_type": "stream",
     "text": [
      "Covariance Matrix:\n",
      " [[1.40403163 0.03231882 0.73877371]\n",
      " [0.03231882 1.28593565 0.15724031]\n",
      " [0.73877371 0.15724031 1.39929696]]\n"
     ]
    }
   ],
   "source": [
    "covariance_matrix = np.zeros((3,3))\n",
    "for i in range(all_samples.shape[1]):\n",
    "    covariance_matrix += (all_samples[:,i].reshape(3,1) - mean_vector).dot((all_samples[:,i].reshape(3,1) - mean_vector).T)\n",
    "covariance_matrix =  covariance_matrix  /  (len(all_samples[0]) - 1)\n",
    "print('Covariance Matrix:\\n', covariance_matrix)\n",
    "\n",
    "cov_mat = covariance_matrix"
   ]
  },
  {
   "cell_type": "code",
   "execution_count": 8,
   "metadata": {},
   "outputs": [
    {
     "data": {
      "text/plain": [
       "40"
      ]
     },
     "execution_count": 8,
     "metadata": {},
     "output_type": "execute_result"
    },
    {
     "data": {
      "text/plain": [
       "40"
      ]
     },
     "execution_count": 8,
     "metadata": {},
     "output_type": "execute_result"
    }
   ],
   "source": [
    "len(all_samples[0])\n",
    "len(all_samples[1])"
   ]
  },
  {
   "cell_type": "markdown",
   "metadata": {},
   "source": [
    "#### Showing effect of 'conjugation'"
   ]
  },
  {
   "cell_type": "code",
   "execution_count": 9,
   "metadata": {},
   "outputs": [
    {
     "data": {
      "text/plain": [
       "array([[ 1.44916587, -0.26967255,  0.54526949,  0.74758639,  0.80947549,\n",
       "         1.26639345,  1.35454763, -0.94423276,  3.27632435,  0.53238116,\n",
       "         3.51433167,  1.10150088,  1.0376285 ,  0.89319475,  0.80694944,\n",
       "         0.01613778,  1.18540059,  0.54275957,  1.85845596,  2.21014588],\n",
       "       [ 0.49876549, -1.02109047,  0.1072602 ,  2.3771934 ,  0.71847025,\n",
       "        -0.58577396, -0.44409296,  1.79254477, -0.13980842,  0.57904477,\n",
       "         1.89943081,  0.10434477,  0.75745346,  1.47550419,  2.87720696,\n",
       "         1.6280275 ,  1.32334357,  1.38591309,  0.80053257,  1.2061014 ],\n",
       "       [ 2.24984409,  0.551304  ,  2.37479728,  1.37846725,  0.84158419,\n",
       "         0.79283304,  2.3992907 ,  2.1907745 ,  2.60313967, -0.23384966,\n",
       "         1.89926438, -0.06815442,  0.68692472,  4.06404217, -0.28110085,\n",
       "        -0.16521324,  0.9695535 ,  0.64436295, -0.07982832,  1.80543914]])"
      ]
     },
     "execution_count": 9,
     "metadata": {},
     "output_type": "execute_result"
    }
   ],
   "source": [
    "class2_sample"
   ]
  },
  {
   "cell_type": "code",
   "execution_count": 10,
   "metadata": {},
   "outputs": [
    {
     "data": {
      "text/plain": [
       "array([[ 1.44916587, -0.26967255,  0.54526949,  0.74758639,  0.80947549,\n",
       "         1.26639345,  1.35454763, -0.94423276,  3.27632435,  0.53238116,\n",
       "         3.51433167,  1.10150088,  1.0376285 ,  0.89319475,  0.80694944,\n",
       "         0.01613778,  1.18540059,  0.54275957,  1.85845596,  2.21014588],\n",
       "       [ 0.49876549, -1.02109047,  0.1072602 ,  2.3771934 ,  0.71847025,\n",
       "        -0.58577396, -0.44409296,  1.79254477, -0.13980842,  0.57904477,\n",
       "         1.89943081,  0.10434477,  0.75745346,  1.47550419,  2.87720696,\n",
       "         1.6280275 ,  1.32334357,  1.38591309,  0.80053257,  1.2061014 ],\n",
       "       [ 2.24984409,  0.551304  ,  2.37479728,  1.37846725,  0.84158419,\n",
       "         0.79283304,  2.3992907 ,  2.1907745 ,  2.60313967, -0.23384966,\n",
       "         1.89926438, -0.06815442,  0.68692472,  4.06404217, -0.28110085,\n",
       "        -0.16521324,  0.9695535 ,  0.64436295, -0.07982832,  1.80543914]])"
      ]
     },
     "execution_count": 10,
     "metadata": {},
     "output_type": "execute_result"
    }
   ],
   "source": [
    "x = class2_sample.conj()\n",
    "x"
   ]
  },
  {
   "cell_type": "markdown",
   "metadata": {},
   "source": [
    "Raschka used the function: **np.linalg.eig** <br>\n",
    "I show the source code below for the sake of transparency. <br>\n",
    "Source: https://github.com/numpy/numpy/blob/master/numpy/linalg/linalg.py"
   ]
  },
  {
   "cell_type": "code",
   "execution_count": 11,
   "metadata": {
    "collapsed": true
   },
   "outputs": [],
   "source": [
    "# Eigenvectors\n",
    "\n",
    "\n",
    "def eig(a):\n",
    "    \"\"\"\n",
    "    Compute the eigenvalues and right eigenvectors of a square array.\n",
    "    Parameters\n",
    "    ----------\n",
    "    a : (..., M, M) array\n",
    "        Matrices for which the eigenvalues and right eigenvectors will\n",
    "        be computed\n",
    "    Returns\n",
    "    -------\n",
    "    w : (..., M) array\n",
    "        The eigenvalues, each repeated according to its multiplicity.\n",
    "        The eigenvalues are not necessarily ordered. The resulting\n",
    "        array will be of complex type, unless the imaginary part is\n",
    "        zero in which case it will be cast to a real type. When `a`\n",
    "        is real the resulting eigenvalues will be real (0 imaginary\n",
    "        part) or occur in conjugate pairs\n",
    "    v : (..., M, M) array\n",
    "        The normalized (unit \"length\") eigenvectors, such that the\n",
    "        column ``v[:,i]`` is the eigenvector corresponding to the\n",
    "        eigenvalue ``w[i]``.\n",
    "    Raises\n",
    "    ------\n",
    "    LinAlgError\n",
    "        If the eigenvalue computation does not converge.\n",
    "    See Also\n",
    "    --------\n",
    "    eigvals : eigenvalues of a non-symmetric array.\n",
    "    eigh : eigenvalues and eigenvectors of a symmetric or Hermitian\n",
    "           (conjugate symmetric) array.\n",
    "    eigvalsh : eigenvalues of a symmetric or Hermitian (conjugate symmetric)\n",
    "               array.\n",
    "    Notes\n",
    "    -----\n",
    "    .. versionadded:: 1.8.0\n",
    "    Broadcasting rules apply, see the `numpy.linalg` documentation for\n",
    "    details.\n",
    "    This is implemented using the _geev LAPACK routines which compute\n",
    "    the eigenvalues and eigenvectors of general square arrays.\n",
    "    The number `w` is an eigenvalue of `a` if there exists a vector\n",
    "    `v` such that ``dot(a,v) = w * v``. Thus, the arrays `a`, `w`, and\n",
    "    `v` satisfy the equations ``dot(a[:,:], v[:,i]) = w[i] * v[:,i]``\n",
    "    for :math:`i \\\\in \\\\{0,...,M-1\\\\}`.\n",
    "    The array `v` of eigenvectors may not be of maximum rank, that is, some\n",
    "    of the columns may be linearly dependent, although round-off error may\n",
    "    obscure that fact. If the eigenvalues are all different, then theoretically\n",
    "    the eigenvectors are linearly independent. Likewise, the (complex-valued)\n",
    "    matrix of eigenvectors `v` is unitary if the matrix `a` is normal, i.e.,\n",
    "    if ``dot(a, a.H) = dot(a.H, a)``, where `a.H` denotes the conjugate\n",
    "    transpose of `a`.\n",
    "    Finally, it is emphasized that `v` consists of the *right* (as in\n",
    "    right-hand side) eigenvectors of `a`.  A vector `y` satisfying\n",
    "    ``dot(y.T, a) = z * y.T`` for some number `z` is called a *left*\n",
    "    eigenvector of `a`, and, in general, the left and right eigenvectors\n",
    "    of a matrix are not necessarily the (perhaps conjugate) transposes\n",
    "    of each other.\n",
    "    References\n",
    "    ----------\n",
    "    G. Strang, *Linear Algebra and Its Applications*, 2nd Ed., Orlando, FL,\n",
    "    Academic Press, Inc., 1980, Various pp.\n",
    "    Examples\n",
    "    --------\n",
    "    >>> from numpy import linalg as LA\n",
    "    (Almost) trivial example with real e-values and e-vectors.\n",
    "    >>> w, v = LA.eig(np.diag((1, 2, 3)))\n",
    "    >>> w; v\n",
    "    array([ 1.,  2.,  3.])\n",
    "    array([[ 1.,  0.,  0.],\n",
    "           [ 0.,  1.,  0.],\n",
    "           [ 0.,  0.,  1.]])\n",
    "    Real matrix possessing complex e-values and e-vectors; note that the\n",
    "    e-values are complex conjugates of each other.\n",
    "    >>> w, v = LA.eig(np.array([[1, -1], [1, 1]]))\n",
    "    >>> w; v\n",
    "    array([ 1. + 1.j,  1. - 1.j])\n",
    "    array([[ 0.70710678+0.j        ,  0.70710678+0.j        ],\n",
    "           [ 0.00000000-0.70710678j,  0.00000000+0.70710678j]])\n",
    "    Complex-valued matrix with real e-values (but complex-valued e-vectors);\n",
    "    note that a.conj().T = a, i.e., a is Hermitian.\n",
    "    >>> a = np.array([[1, 1j], [-1j, 1]])\n",
    "    >>> w, v = LA.eig(a)\n",
    "    >>> w; v\n",
    "    array([  2.00000000e+00+0.j,   5.98651912e-36+0.j]) # i.e., {2, 0}\n",
    "    array([[ 0.00000000+0.70710678j,  0.70710678+0.j        ],\n",
    "           [ 0.70710678+0.j        ,  0.00000000+0.70710678j]])\n",
    "    Be careful about round-off error!\n",
    "    >>> a = np.array([[1 + 1e-9, 0], [0, 1 - 1e-9]])\n",
    "    >>> # Theor. e-values are 1 +/- 1e-9\n",
    "    >>> w, v = LA.eig(a)\n",
    "    >>> w; v\n",
    "    array([ 1.,  1.])\n",
    "    array([[ 1.,  0.],\n",
    "           [ 0.,  1.]])\n",
    "    \"\"\"\n",
    "    a, wrap = _makearray(a)\n",
    "    _assertRankAtLeast2(a)\n",
    "    _assertNdSquareness(a)\n",
    "    _assertFinite(a)\n",
    "    t, result_t = _commonType(a)\n",
    "\n",
    "    extobj = get_linalg_error_extobj(\n",
    "        _raise_linalgerror_eigenvalues_nonconvergence)\n",
    "    signature = 'D->DD' if isComplexType(t) else 'd->DD'\n",
    "    w, vt = _umath_linalg.eig(a, signature=signature, extobj=extobj)\n",
    "\n",
    "    if not isComplexType(t) and all(w.imag == 0.0):\n",
    "        w = w.real\n",
    "        vt = vt.real\n",
    "        result_t = _realType(result_t)\n",
    "    else:\n",
    "        result_t = _complexType(result_t)\n",
    "\n",
    "    vt = vt.astype(result_t, copy=False)\n",
    "    return w.astype(result_t, copy=False), wrap(vt)\n",
    "\n",
    "\n",
    "def _makearray(a):\n",
    "    new = asarray(a)\n",
    "    wrap = getattr(a, \"__array_prepare__\", new.__array_wrap__)\n",
    "    return new, wrap\n",
    "\n",
    "\n"
   ]
  },
  {
   "cell_type": "markdown",
   "metadata": {},
   "source": [
    "## Calculate eigenvectors based on 'scatter_matrix'\n",
    "#### \"To show that the eigenvectors are indeed identical whether we derived them from the scatter or the covariance matrix, let us put an assert statement into the code.\" \n",
    "#### we will see that the eigenvalues were indeed scaled by the factor 39 when we derived it from the scatter matrix."
   ]
  },
  {
   "cell_type": "code",
   "execution_count": 12,
   "metadata": {},
   "outputs": [
    {
     "name": "stdout",
     "output_type": "stream",
     "text": [
      "Values, scatter matrix\n"
     ]
    },
    {
     "data": {
      "text/plain": [
       "array([84.28102399, 25.36222228, 49.83805915])"
      ]
     },
     "execution_count": 12,
     "metadata": {},
     "output_type": "execute_result"
    },
    {
     "name": "stdout",
     "output_type": "stream",
     "text": [
      "Vector, scatter matrix\n"
     ]
    },
    {
     "data": {
      "text/plain": [
       "array([[-0.69361894, -0.68995971,  0.20699845],\n",
       "       [-0.15212732, -0.14057467, -0.97831285],\n",
       "       [-0.70409519,  0.71006645,  0.00745647]])"
      ]
     },
     "execution_count": 12,
     "metadata": {},
     "output_type": "execute_result"
    },
    {
     "name": "stdout",
     "output_type": "stream",
     "text": [
      "Values, covariance matrix\n"
     ]
    },
    {
     "data": {
      "text/plain": [
       "array([2.1610519 , 0.65031339, 1.27789895])"
      ]
     },
     "execution_count": 12,
     "metadata": {},
     "output_type": "execute_result"
    },
    {
     "name": "stdout",
     "output_type": "stream",
     "text": [
      "Vector, covariance matrix\n"
     ]
    },
    {
     "data": {
      "text/plain": [
       "array([[-0.69361894, -0.68995971,  0.20699845],\n",
       "       [-0.15212732, -0.14057467, -0.97831285],\n",
       "       [-0.70409519,  0.71006645,  0.00745647]])"
      ]
     },
     "execution_count": 12,
     "metadata": {},
     "output_type": "execute_result"
    }
   ],
   "source": [
    "# eigenvectors and eigenvalues from the scatter matrix\n",
    "eig_val_sc, eig_vec_sc = np.linalg.eig(scatter_matrix)\n",
    "            ### Compute the eigenvalues and right eigenvectors of a square array.\n",
    "    \n",
    "# eigenvectors and eigenvalues from the covariance matrix\n",
    "eig_val_cov, eig_vec_cov = np.linalg.eig(cov_mat)\n",
    "\n",
    "print(\"Values, scatter matrix\")\n",
    "eig_val_sc\n",
    "print(\"Vector, scatter matrix\")\n",
    "eig_vec_sc\n",
    "print(\"Values, covariance matrix\")\n",
    "eig_val_cov \n",
    "print(\"Vector, covariance matrix\")\n",
    "eig_vec_cov"
   ]
  },
  {
   "cell_type": "code",
   "execution_count": 13,
   "metadata": {},
   "outputs": [
    {
     "name": "stdout",
     "output_type": "stream",
     "text": [
      "Eigenvector1: \n",
      "[[-0.69361894]\n",
      " [-0.15212732]\n",
      " [-0.70409519]]\n",
      "Eigenvalue 1 from scatter matrix: 84.28102398595225\n",
      "Eigenvalue 1 from covariance matrix: 2.1610518970756996\n",
      "Scaling factor:  38.999999999999986\n",
      "----------------------------------------\n",
      "Eigenvector2: \n",
      "[[-0.68995971]\n",
      " [-0.14057467]\n",
      " [ 0.71006645]]\n",
      "Eigenvalue 2 from scatter matrix: 25.362222282246467\n",
      "Eigenvalue 2 from covariance matrix: 0.6503133918524733\n",
      "Scaling factor:  39.000000000000014\n",
      "----------------------------------------\n",
      "Eigenvector3: \n",
      "[[ 0.20699845]\n",
      " [-0.97831285]\n",
      " [ 0.00745647]]\n",
      "Eigenvalue 3 from scatter matrix: 49.83805915321693\n",
      "Eigenvalue 3 from covariance matrix: 1.2778989526465878\n",
      "Scaling factor:  39.00000000000001\n",
      "----------------------------------------\n"
     ]
    }
   ],
   "source": [
    "# Eigenvectors are 3x3, and eigenvalues 1x3.\n",
    "## Here we break up into 3 x separate eigenvectors & eigenvalues (i.e. per variable). & Print the results.\n",
    "for i in range(len(eig_val_sc)):\n",
    "    eigvec_sc = eig_vec_sc[:,i].reshape(1,3).T\n",
    "    eigvec_cov = eig_vec_cov[:,i].reshape(1,3).T\n",
    "    assert eigvec_sc.all() == eigvec_cov.all(), 'Eigenvectors are not identical'\n",
    "\n",
    "    print('Eigenvector{}: \\n{}'.format(i+1, eigvec_sc))\n",
    "    print('Eigenvalue {} from scatter matrix: {}'.format(i+1, eig_val_sc[i]))\n",
    "    print('Eigenvalue {} from covariance matrix: {}'.format(i+1, eig_val_cov[i]))\n",
    "    print('Scaling factor: ', eig_val_sc[i]/eig_val_cov[i])\n",
    "    print(40 * '-')"
   ]
  },
  {
   "cell_type": "markdown",
   "metadata": {},
   "source": [
    "### \"Let us quickly check that the eigenvector-eigenvalue calculation is correct and satisfy the equation\":\n",
    "#### (Epsilon).(v) = (lambda).(v)\n",
    "Σ=Covariancematrix <br>\n",
    "v=Eigenvector <br>\n",
    "λ=Eigenvalue"
   ]
  },
  {
   "cell_type": "code",
   "execution_count": 14,
   "metadata": {
    "collapsed": true
   },
   "outputs": [],
   "source": [
    "for i in range(len(eig_val_sc)):\n",
    "    eigv = eig_vec_sc[:,i].reshape(1,3).T\n",
    "    np.testing.assert_array_almost_equal(scatter_matrix.dot(eigv), eig_val_sc[i] * eigv,\n",
    "                                         decimal=6, err_msg='', verbose=True)"
   ]
  },
  {
   "cell_type": "markdown",
   "metadata": {},
   "source": [
    "### Visualizing the eigenvectors\n",
    "And before we move on to the next step, just to satisfy our own curiosity, we plot the eigenvectors centered at the sample mean."
   ]
  },
  {
   "cell_type": "code",
   "execution_count": 15,
   "metadata": {},
   "outputs": [
    {
     "name": "stdout",
     "output_type": "stream",
     "text": [
      "Populating the interactive namespace from numpy and matplotlib\n"
     ]
    },
    {
     "name": "stderr",
     "output_type": "stream",
     "text": [
      "C:\\ProgramData\\Anaconda3\\lib\\site-packages\\IPython\\core\\magics\\pylab.py:160: UserWarning: pylab import has clobbered these variables: ['eig']\n",
      "`%matplotlib` prevents importing * from pylab and numpy\n",
      "  \"\\n`%matplotlib` prevents importing * from pylab and numpy\"\n"
     ]
    },
    {
     "data": {
      "text/plain": [
       "[<mpl_toolkits.mplot3d.art3d.Line3D at 0x22a53be0668>]"
      ]
     },
     "execution_count": 15,
     "metadata": {},
     "output_type": "execute_result"
    },
    {
     "data": {
      "text/plain": [
       "[<mpl_toolkits.mplot3d.art3d.Line3D at 0x22a53f82e48>]"
      ]
     },
     "execution_count": 15,
     "metadata": {},
     "output_type": "execute_result"
    },
    {
     "data": {
      "text/plain": [
       "<__main__.Arrow3D at 0x22a53f99550>"
      ]
     },
     "execution_count": 15,
     "metadata": {},
     "output_type": "execute_result"
    },
    {
     "data": {
      "text/plain": [
       "<__main__.Arrow3D at 0x22a53f99e48>"
      ]
     },
     "execution_count": 15,
     "metadata": {},
     "output_type": "execute_result"
    },
    {
     "data": {
      "text/plain": [
       "<__main__.Arrow3D at 0x22a53f85470>"
      ]
     },
     "execution_count": 15,
     "metadata": {},
     "output_type": "execute_result"
    },
    {
     "data": {
      "text/plain": [
       "<matplotlib.text.Text at 0x22a5482e780>"
      ]
     },
     "execution_count": 15,
     "metadata": {},
     "output_type": "execute_result"
    },
    {
     "data": {
      "text/plain": [
       "<matplotlib.text.Text at 0x22a53be3198>"
      ]
     },
     "execution_count": 15,
     "metadata": {},
     "output_type": "execute_result"
    },
    {
     "data": {
      "text/plain": [
       "<matplotlib.text.Text at 0x22a53becac8>"
      ]
     },
     "execution_count": 15,
     "metadata": {},
     "output_type": "execute_result"
    },
    {
     "data": {
      "text/plain": [
       "<matplotlib.text.Text at 0x22a53c02208>"
      ]
     },
     "execution_count": 15,
     "metadata": {},
     "output_type": "execute_result"
    },
    {
     "data": {
      "image/png": "[encoded data removed]",
      "text/plain": [
       "<matplotlib.figure.Figure at 0x22a537fc0f0>"
      ]
     },
     "metadata": {},
     "output_type": "display_data"
    }
   ],
   "source": [
    "%pylab inline\n",
    "\n",
    "from matplotlib import pyplot as plt\n",
    "from mpl_toolkits.mplot3d import Axes3D\n",
    "from mpl_toolkits.mplot3d import proj3d\n",
    "from matplotlib.patches import FancyArrowPatch\n",
    "\n",
    "\n",
    "class Arrow3D(FancyArrowPatch):\n",
    "    def __init__(self, xs, ys, zs, *args, **kwargs):\n",
    "        FancyArrowPatch.__init__(self, (0,0), (0,0), *args, **kwargs)\n",
    "        self._verts3d = xs, ys, zs\n",
    "\n",
    "    def draw(self, renderer):\n",
    "        xs3d, ys3d, zs3d = self._verts3d\n",
    "        xs, ys, zs = proj3d.proj_transform(xs3d, ys3d, zs3d, renderer.M)\n",
    "        self.set_positions((xs[0],ys[0]),(xs[1],ys[1]))\n",
    "        FancyArrowPatch.draw(self, renderer)\n",
    "\n",
    "fig = plt.figure(figsize=(7,7))\n",
    "ax = fig.add_subplot(111, projection='3d')\n",
    "\n",
    "ax.plot(all_samples[0,:], all_samples[1,:], all_samples[2,:], 'o', markersize=8, color='green', alpha=0.2)\n",
    "ax.plot([mean_x], [mean_y], [mean_z], 'o', markersize=10, color='red', alpha=0.5)\n",
    "for v in eig_vec_sc.T:\n",
    "    a = Arrow3D([mean_x, v[0]], [mean_y, v[1]], [mean_z, v[2]], mutation_scale=20, lw=3, arrowstyle=\"-|>\", color=\"r\")\n",
    "    ax.add_artist(a)\n",
    "ax.set_xlabel('x_values')\n",
    "ax.set_ylabel('y_values')\n",
    "ax.set_zlabel('z_values')\n",
    "\n",
    "plt.title('Eigenvectors')\n",
    "\n",
    "plt.show()"
   ]
  },
  {
   "cell_type": "markdown",
   "metadata": {
    "collapsed": true
   },
   "source": [
    "Raschka used the function **np.linalg.norm** <br>\n",
    "The source code is below <br>\n",
    "Source: https://github.com/numpy/numpy/blob/master/numpy/linalg/linalg.py"
   ]
  },
  {
   "cell_type": "code",
   "execution_count": 16,
   "metadata": {
    "collapsed": true
   },
   "outputs": [],
   "source": [
    "def norm(x, ord=None, axis=None, keepdims=False):\n",
    "    \"\"\"\n",
    "    Matrix or vector norm.\n",
    "    This function is able to return one of eight different matrix norms,\n",
    "    or one of an infinite number of vector norms (described below), depending\n",
    "    on the value of the ``ord`` parameter.\n",
    "    Parameters\n",
    "    ----------\n",
    "    x : array_like\n",
    "        Input array.  If `axis` is None, `x` must be 1-D or 2-D.\n",
    "    ord : {non-zero int, inf, -inf, 'fro', 'nuc'}, optional\n",
    "        Order of the norm (see table under ``Notes``). inf means numpy's\n",
    "        `inf` object.\n",
    "    axis : {int, 2-tuple of ints, None}, optional\n",
    "        If `axis` is an integer, it specifies the axis of `x` along which to\n",
    "        compute the vector norms.  If `axis` is a 2-tuple, it specifies the\n",
    "        axes that hold 2-D matrices, and the matrix norms of these matrices\n",
    "        are computed.  If `axis` is None then either a vector norm (when `x`\n",
    "        is 1-D) or a matrix norm (when `x` is 2-D) is returned.\n",
    "        .. versionadded:: 1.8.0\n",
    "    keepdims : bool, optional\n",
    "        If this is set to True, the axes which are normed over are left in the\n",
    "        result as dimensions with size one.  With this option the result will\n",
    "        broadcast correctly against the original `x`.\n",
    "        .. versionadded:: 1.10.0\n",
    "    Returns\n",
    "    -------\n",
    "    n : float or ndarray\n",
    "        Norm of the matrix or vector(s).\n",
    "    Notes\n",
    "    -----\n",
    "    For values of ``ord <= 0``, the result is, strictly speaking, not a\n",
    "    mathematical 'norm', but it may still be useful for various numerical\n",
    "    purposes.\n",
    "    The following norms can be calculated:\n",
    "    =====  ============================  ==========================\n",
    "    ord    norm for matrices             norm for vectors\n",
    "    =====  ============================  ==========================\n",
    "    None   Frobenius norm                2-norm\n",
    "    'fro'  Frobenius norm                --\n",
    "    'nuc'  nuclear norm                  --\n",
    "    inf    max(sum(abs(x), axis=1))      max(abs(x))\n",
    "    -inf   min(sum(abs(x), axis=1))      min(abs(x))\n",
    "    0      --                            sum(x != 0)\n",
    "    1      max(sum(abs(x), axis=0))      as below\n",
    "    -1     min(sum(abs(x), axis=0))      as below\n",
    "    2      2-norm (largest sing. value)  as below\n",
    "    -2     smallest singular value       as below\n",
    "    other  --                            sum(abs(x)**ord)**(1./ord)\n",
    "    =====  ============================  ==========================\n",
    "    The Frobenius norm is given by [1]_:\n",
    "        :math:`||A||_F = [\\\\sum_{i,j} abs(a_{i,j})^2]^{1/2}`\n",
    "    The nuclear norm is the sum of the singular values.\n",
    "    References\n",
    "    ----------\n",
    "    .. [1] G. H. Golub and C. F. Van Loan, *Matrix Computations*,\n",
    "           Baltimore, MD, Johns Hopkins University Press, 1985, pg. 15\n",
    "    Examples\n",
    "    --------\n",
    "    >>> from numpy import linalg as LA\n",
    "    >>> a = np.arange(9) - 4\n",
    "    >>> a\n",
    "    array([-4, -3, -2, -1,  0,  1,  2,  3,  4])\n",
    "    >>> b = a.reshape((3, 3))\n",
    "    >>> b\n",
    "    array([[-4, -3, -2],\n",
    "           [-1,  0,  1],\n",
    "           [ 2,  3,  4]])\n",
    "    >>> LA.norm(a)\n",
    "    7.745966692414834\n",
    "    >>> LA.norm(b)\n",
    "    7.745966692414834\n",
    "    >>> LA.norm(b, 'fro')\n",
    "    7.745966692414834\n",
    "    >>> LA.norm(a, np.inf)\n",
    "    4.0\n",
    "    >>> LA.norm(b, np.inf)\n",
    "    9.0\n",
    "    >>> LA.norm(a, -np.inf)\n",
    "    0.0\n",
    "    >>> LA.norm(b, -np.inf)\n",
    "    2.0\n",
    "    >>> LA.norm(a, 1)\n",
    "    20.0\n",
    "    >>> LA.norm(b, 1)\n",
    "    7.0\n",
    "    >>> LA.norm(a, -1)\n",
    "    -4.6566128774142013e-010\n",
    "    >>> LA.norm(b, -1)\n",
    "    6.0\n",
    "    >>> LA.norm(a, 2)\n",
    "    7.745966692414834\n",
    "    >>> LA.norm(b, 2)\n",
    "    7.3484692283495345\n",
    "    >>> LA.norm(a, -2)\n",
    "    nan\n",
    "    >>> LA.norm(b, -2)\n",
    "    1.8570331885190563e-016\n",
    "    >>> LA.norm(a, 3)\n",
    "    5.8480354764257312\n",
    "    >>> LA.norm(a, -3)\n",
    "    nan\n",
    "    Using the `axis` argument to compute vector norms:\n",
    "    >>> c = np.array([[ 1, 2, 3],\n",
    "    ...               [-1, 1, 4]])\n",
    "    >>> LA.norm(c, axis=0)\n",
    "    array([ 1.41421356,  2.23606798,  5.        ])\n",
    "    >>> LA.norm(c, axis=1)\n",
    "    array([ 3.74165739,  4.24264069])\n",
    "    >>> LA.norm(c, ord=1, axis=1)\n",
    "    array([ 6.,  6.])\n",
    "    Using the `axis` argument to compute matrix norms:\n",
    "    >>> m = np.arange(8).reshape(2,2,2)\n",
    "    >>> LA.norm(m, axis=(1,2))\n",
    "    array([  3.74165739,  11.22497216])\n",
    "    >>> LA.norm(m[0, :, :]), LA.norm(m[1, :, :])\n",
    "    (3.7416573867739413, 11.224972160321824)\n",
    "    \"\"\"\n",
    "    x = asarray(x)\n",
    "\n",
    "    if not issubclass(x.dtype.type, (inexact, object_)):\n",
    "        x = x.astype(float)\n",
    "\n",
    "    # Immediately handle some default, simple, fast, and common cases.\n",
    "    if axis is None:\n",
    "        ndim = x.ndim\n",
    "        if ((ord is None) or\n",
    "            (ord in ('f', 'fro') and ndim == 2) or\n",
    "            (ord == 2 and ndim == 1)):\n",
    "\n",
    "            x = x.ravel(order='K')\n",
    "            if isComplexType(x.dtype.type):\n",
    "                sqnorm = dot(x.real, x.real) + dot(x.imag, x.imag)\n",
    "            else:\n",
    "                sqnorm = dot(x, x)\n",
    "            ret = sqrt(sqnorm)\n",
    "            if keepdims:\n",
    "                ret = ret.reshape(ndim*[1])\n",
    "            return ret\n",
    "\n",
    "    # Normalize the `axis` argument to a tuple.\n",
    "    nd = x.ndim\n",
    "    if axis is None:\n",
    "        axis = tuple(range(nd))\n",
    "    elif not isinstance(axis, tuple):\n",
    "        try:\n",
    "            axis = int(axis)\n",
    "        except Exception:\n",
    "            raise TypeError(\"'axis' must be None, an integer or a tuple of integers\")\n",
    "        axis = (axis,)\n",
    "\n",
    "    if len(axis) == 1:\n",
    "        if ord == Inf:\n",
    "            return abs(x).max(axis=axis, keepdims=keepdims)\n",
    "        elif ord == -Inf:\n",
    "            return abs(x).min(axis=axis, keepdims=keepdims)\n",
    "        elif ord == 0:\n",
    "            # Zero norm\n",
    "            return (x != 0).astype(x.real.dtype).sum(axis=axis, keepdims=keepdims)\n",
    "        elif ord == 1:\n",
    "            # special case for speedup\n",
    "            return add.reduce(abs(x), axis=axis, keepdims=keepdims)\n",
    "        elif ord is None or ord == 2:\n",
    "            # special case for speedup\n",
    "            s = (x.conj() * x).real\n",
    "            return sqrt(add.reduce(s, axis=axis, keepdims=keepdims))\n",
    "        else:\n",
    "            try:\n",
    "                ord + 1\n",
    "            except TypeError:\n",
    "                raise ValueError(\"Invalid norm order for vectors.\")\n",
    "            absx = abs(x)\n",
    "            absx **= ord\n",
    "            ret = add.reduce(absx, axis=axis, keepdims=keepdims)\n",
    "            ret **= (1 / ord)\n",
    "            return ret\n",
    "    elif len(axis) == 2:\n",
    "        row_axis, col_axis = axis\n",
    "        row_axis = normalize_axis_index(row_axis, nd)\n",
    "        col_axis = normalize_axis_index(col_axis, nd)\n",
    "        if row_axis == col_axis:\n",
    "            raise ValueError('Duplicate axes given.')\n",
    "        if ord == 2:\n",
    "            ret =  _multi_svd_norm(x, row_axis, col_axis, amax)\n",
    "        elif ord == -2:\n",
    "            ret = _multi_svd_norm(x, row_axis, col_axis, amin)\n",
    "        elif ord == 1:\n",
    "            if col_axis > row_axis:\n",
    "                col_axis -= 1\n",
    "            ret = add.reduce(abs(x), axis=row_axis).max(axis=col_axis)\n",
    "        elif ord == Inf:\n",
    "            if row_axis > col_axis:\n",
    "                row_axis -= 1\n",
    "            ret = add.reduce(abs(x), axis=col_axis).max(axis=row_axis)\n",
    "        elif ord == -1:\n",
    "            if col_axis > row_axis:\n",
    "                col_axis -= 1\n",
    "            ret = add.reduce(abs(x), axis=row_axis).min(axis=col_axis)\n",
    "        elif ord == -Inf:\n",
    "            if row_axis > col_axis:\n",
    "                row_axis -= 1\n",
    "            ret = add.reduce(abs(x), axis=col_axis).min(axis=row_axis)\n",
    "        elif ord in [None, 'fro', 'f']:\n",
    "            ret = sqrt(add.reduce((x.conj() * x).real, axis=axis))\n",
    "        elif ord == 'nuc':\n",
    "            ret = _multi_svd_norm(x, row_axis, col_axis, sum)\n",
    "        else:\n",
    "            raise ValueError(\"Invalid norm order for matrices.\")\n",
    "        if keepdims:\n",
    "            ret_shape = list(x.shape)\n",
    "            ret_shape[axis[0]] = 1\n",
    "            ret_shape[axis[1]] = 1\n",
    "            ret = ret.reshape(ret_shape)\n",
    "        return ret\n",
    "    else:\n",
    "        raise ValueError(\"Improper number of dimensions to norm.\")"
   ]
  },
  {
   "cell_type": "markdown",
   "metadata": {},
   "source": [
    "#### \"The eigenvectors will form the axes of this new feature subspace. However, the eigenvectors only define the directions of the new axis, since they have all the same unit length 1, which we can confirm by the following code:\""
   ]
  },
  {
   "cell_type": "code",
   "execution_count": 17,
   "metadata": {
    "collapsed": true
   },
   "outputs": [],
   "source": [
    "for ev in eig_vec_sc:\n",
    "    numpy.testing.assert_array_almost_equal(1.0, np.linalg.norm(ev))\n",
    "    # instead of 'assert' because of rounding errors"
   ]
  },
  {
   "cell_type": "markdown",
   "metadata": {
    "collapsed": true
   },
   "source": [
    "### Sort the (eigenvalue, eigenvector) tuples from high to low: obviously just keep the ones with highest variance, i.e. highest \"eigenvalue\"."
   ]
  },
  {
   "cell_type": "code",
   "execution_count": 18,
   "metadata": {},
   "outputs": [
    {
     "name": "stdout",
     "output_type": "stream",
     "text": [
      "84.28102398595225\n",
      "49.83805915321693\n",
      "25.362222282246467\n"
     ]
    }
   ],
   "source": [
    "# Make a list of (eigenvalue, eigenvector) tuples\n",
    "eig_pairs = [(np.abs(eig_val_sc[i]), eig_vec_sc[:,i]) for i in range(len(eig_val_sc))]\n",
    "\n",
    "eig_pairs.sort(key=lambda x: x[0], reverse=True)\n",
    "\n",
    "# Visually confirm that the list is correctly sorted by decreasing eigenvalues\n",
    "for i in eig_pairs:\n",
    "    print(i[0])"
   ]
  },
  {
   "cell_type": "markdown",
   "metadata": {},
   "source": [
    "### \"Choosing k eigenvectors with the largest eigenvalues\""
   ]
  },
  {
   "cell_type": "markdown",
   "metadata": {
    "collapsed": true
   },
   "source": [
    "####  \"Combine the two eigenvectors with the highest eigenvalues to construct our d × k-dimensional eigenvector matrix 'W' \""
   ]
  },
  {
   "cell_type": "code",
   "execution_count": 19,
   "metadata": {},
   "outputs": [
    {
     "name": "stdout",
     "output_type": "stream",
     "text": [
      "Matrix W:\n",
      " [[-0.69361894  0.20699845]\n",
      " [-0.15212732 -0.97831285]\n",
      " [-0.70409519  0.00745647]]\n"
     ]
    }
   ],
   "source": [
    "matrix_w = np.hstack((eig_pairs[0][1].reshape(3,1), eig_pairs[1][1].reshape(3,1)))\n",
    "            ### Stack arrays in sequence horizontally (column wise). \n",
    "            ### This is equivalent to concatenation along the second axis, except for 1-Darrays where it concatenates along the first axis. \n",
    "            ### Rebuilds arrays divided by `hsplit`.\n",
    "print('Matrix W:\\n', matrix_w)"
   ]
  },
  {
   "cell_type": "markdown",
   "metadata": {
    "collapsed": true
   },
   "source": [
    "### \"Transforming the samples onto the new subspace\"\n",
    "#### \"In the last step, we use the 2×3-dimensional matrix W that we just computed to transform our samples onto the new subspace via the equation y=(W^T).(x)\""
   ]
  },
  {
   "cell_type": "code",
   "execution_count": 20,
   "metadata": {
    "collapsed": true
   },
   "outputs": [],
   "source": [
    "transformed = matrix_w.T.dot(all_samples)\n",
    "assert transformed.shape == (2,40), \"The matrix is not 2x40 dimensional.\""
   ]
  },
  {
   "cell_type": "markdown",
   "metadata": {
    "collapsed": true
   },
   "source": [
    "#### Visualise the transformed samples"
   ]
  },
  {
   "cell_type": "code",
   "execution_count": 21,
   "metadata": {},
   "outputs": [
    {
     "data": {
      "text/plain": [
       "[<matplotlib.lines.Line2D at 0x22a541b3780>]"
      ]
     },
     "execution_count": 21,
     "metadata": {},
     "output_type": "execute_result"
    },
    {
     "data": {
      "text/plain": [
       "[<matplotlib.lines.Line2D at 0x22a54911be0>]"
      ]
     },
     "execution_count": 21,
     "metadata": {},
     "output_type": "execute_result"
    },
    {
     "data": {
      "text/plain": [
       "(-4, 4)"
      ]
     },
     "execution_count": 21,
     "metadata": {},
     "output_type": "execute_result"
    },
    {
     "data": {
      "text/plain": [
       "(-4, 4)"
      ]
     },
     "execution_count": 21,
     "metadata": {},
     "output_type": "execute_result"
    },
    {
     "data": {
      "text/plain": [
       "<matplotlib.text.Text at 0x22a4b3f29b0>"
      ]
     },
     "execution_count": 21,
     "metadata": {},
     "output_type": "execute_result"
    },
    {
     "data": {
      "text/plain": [
       "<matplotlib.text.Text at 0x22a548f4828>"
      ]
     },
     "execution_count": 21,
     "metadata": {},
     "output_type": "execute_result"
    },
    {
     "data": {
      "text/plain": [
       "<matplotlib.legend.Legend at 0x22a541b8c50>"
      ]
     },
     "execution_count": 21,
     "metadata": {},
     "output_type": "execute_result"
    },
    {
     "data": {
      "text/plain": [
       "<matplotlib.text.Text at 0x22a48d90400>"
      ]
     },
     "execution_count": 21,
     "metadata": {},
     "output_type": "execute_result"
    },
    {
     "data": {
      "image/png": "[encoded data removed]",
      "text/plain": [
       "<matplotlib.figure.Figure at 0x22a549116d8>"
      ]
     },
     "metadata": {},
     "output_type": "display_data"
    }
   ],
   "source": [
    "plt.plot(transformed[0,0:20], transformed[1,0:20], 'o', markersize=7, color='blue', alpha=0.5, label='class1')\n",
    "plt.plot(transformed[0,20:40], transformed[1,20:40], '^', markersize=7, color='red', alpha=0.5, label='class2')\n",
    "plt.xlim([-4,4])\n",
    "plt.ylim([-4,4])\n",
    "plt.xlabel('x_values')\n",
    "plt.ylabel('y_values')\n",
    "plt.legend()\n",
    "plt.title('Transformed samples with class labels')\n",
    "\n",
    "plt.show()"
   ]
  },
  {
   "cell_type": "markdown",
   "metadata": {
    "collapsed": true
   },
   "source": [
    "# Using the PCA() class from the matplotlib.mlab library\n"
   ]
  },
  {
   "cell_type": "markdown",
   "metadata": {},
   "source": [
    "### The in-built PCA() class from the matplotlib library"
   ]
  },
  {
   "cell_type": "markdown",
   "metadata": {},
   "source": [
    "**Class attributes of PCA()**\n",
    "\n",
    "Attrs:\n",
    "\n",
    "    a : a centered unit sigma version of input a\n",
    "\n",
    "    numrows, numcols: the dimensions of a\n",
    "\n",
    "    mu : a numdims array of means of a\n",
    "\n",
    "    sigma : a numdims array of atandard deviation of a\n",
    "\n",
    "    fracs : the proportion of variance of each of the principal components\n",
    "\n",
    "    Wt : the weight vector for projecting a numdims point or array into PCA space\n",
    "\n",
    "    Y : a projected into PCA space"
   ]
  },
  {
   "cell_type": "code",
   "execution_count": null,
   "metadata": {
    "collapsed": true
   },
   "outputs": [],
   "source": []
  },
  {
   "cell_type": "code",
   "execution_count": 22,
   "metadata": {},
   "outputs": [
    {
     "name": "stdout",
     "output_type": "stream",
     "text": [
      "PC axes in terms of the measurement axes scaled by the standard deviations:\n",
      " [[-0.68744889 -0.18141962 -0.70320761]\n",
      " [ 0.21617507 -0.97552079  0.0403427 ]\n",
      " [ 0.6933126   0.12428241 -0.70983908]]\n"
     ]
    },
    {
     "data": {
      "text/plain": [
       "[<matplotlib.lines.Line2D at 0x22a542e4278>]"
      ]
     },
     "execution_count": 22,
     "metadata": {},
     "output_type": "execute_result"
    },
    {
     "data": {
      "text/plain": [
       "[<matplotlib.lines.Line2D at 0x22a541d3860>]"
      ]
     },
     "execution_count": 22,
     "metadata": {},
     "output_type": "execute_result"
    },
    {
     "data": {
      "text/plain": [
       "<matplotlib.text.Text at 0x22a541c92b0>"
      ]
     },
     "execution_count": 22,
     "metadata": {},
     "output_type": "execute_result"
    },
    {
     "data": {
      "text/plain": [
       "<matplotlib.text.Text at 0x22a541cf2b0>"
      ]
     },
     "execution_count": 22,
     "metadata": {},
     "output_type": "execute_result"
    },
    {
     "data": {
      "text/plain": [
       "(-4, 4)"
      ]
     },
     "execution_count": 22,
     "metadata": {},
     "output_type": "execute_result"
    },
    {
     "data": {
      "text/plain": [
       "(-4, 4)"
      ]
     },
     "execution_count": 22,
     "metadata": {},
     "output_type": "execute_result"
    },
    {
     "data": {
      "text/plain": [
       "<matplotlib.legend.Legend at 0x22a542e4da0>"
      ]
     },
     "execution_count": 22,
     "metadata": {},
     "output_type": "execute_result"
    },
    {
     "data": {
      "text/plain": [
       "<matplotlib.text.Text at 0x22a54175898>"
      ]
     },
     "execution_count": 22,
     "metadata": {},
     "output_type": "execute_result"
    },
    {
     "data": {
      "image/png": "[encoded data removed]",
      "text/plain": [
       "<matplotlib.figure.Figure at 0x22a54208c50>"
      ]
     },
     "metadata": {},
     "output_type": "display_data"
    }
   ],
   "source": [
    "from matplotlib.mlab import PCA as mlabPCA\n",
    "\n",
    "mlab_pca = mlabPCA(all_samples.T)\n",
    "\n",
    "print('PC axes in terms of the measurement axes scaled by the standard deviations:\\n', mlab_pca.Wt)\n",
    "\n",
    "plt.plot(mlab_pca.Y[0:20,0],mlab_pca.Y[0:20,1], 'o', markersize=7, color='blue', alpha=0.5, label='class1')\n",
    "plt.plot(mlab_pca.Y[20:40,0], mlab_pca.Y[20:40,1], '^', markersize=7, color='red', alpha=0.5, label='class2')\n",
    "\n",
    "plt.xlabel('x_values')\n",
    "plt.ylabel('y_values')\n",
    "plt.xlim([-4,4])\n",
    "plt.ylim([-4,4])\n",
    "plt.legend()\n",
    "plt.title('Transformed samples with class labels from matplotlib.mlab.PCA()')\n",
    "\n",
    "plt.show()"
   ]
  },
  {
   "cell_type": "markdown",
   "metadata": {
    "collapsed": true
   },
   "source": [
    "# Using the PCA() class from the sklearn.decomposition library\n"
   ]
  },
  {
   "cell_type": "code",
   "execution_count": 23,
   "metadata": {},
   "outputs": [
    {
     "data": {
      "text/plain": [
       "[<matplotlib.lines.Line2D at 0x22a565982b0>]"
      ]
     },
     "execution_count": 23,
     "metadata": {},
     "output_type": "execute_result"
    },
    {
     "data": {
      "text/plain": [
       "[<matplotlib.lines.Line2D at 0x22a543024e0>]"
      ]
     },
     "execution_count": 23,
     "metadata": {},
     "output_type": "execute_result"
    },
    {
     "data": {
      "text/plain": [
       "<matplotlib.text.Text at 0x22a561d2b38>"
      ]
     },
     "execution_count": 23,
     "metadata": {},
     "output_type": "execute_result"
    },
    {
     "data": {
      "text/plain": [
       "<matplotlib.text.Text at 0x22a561ee240>"
      ]
     },
     "execution_count": 23,
     "metadata": {},
     "output_type": "execute_result"
    },
    {
     "data": {
      "text/plain": [
       "(-4, 4)"
      ]
     },
     "execution_count": 23,
     "metadata": {},
     "output_type": "execute_result"
    },
    {
     "data": {
      "text/plain": [
       "(-4, 4)"
      ]
     },
     "execution_count": 23,
     "metadata": {},
     "output_type": "execute_result"
    },
    {
     "data": {
      "text/plain": [
       "<matplotlib.legend.Legend at 0x22a5659ccf8>"
      ]
     },
     "execution_count": 23,
     "metadata": {},
     "output_type": "execute_result"
    },
    {
     "data": {
      "text/plain": [
       "<matplotlib.text.Text at 0x22a561db7f0>"
      ]
     },
     "execution_count": 23,
     "metadata": {},
     "output_type": "execute_result"
    },
    {
     "data": {
      "image/png": "[encoded data removed]",
      "text/plain": [
       "<matplotlib.figure.Figure at 0x22a54302438>"
      ]
     },
     "metadata": {},
     "output_type": "display_data"
    }
   ],
   "source": [
    "from sklearn.decomposition import PCA as sklearnPCA\n",
    "\n",
    "sklearn_pca = sklearnPCA(n_components=2)\n",
    "sklearn_transf = sklearn_pca.fit_transform(all_samples.T)\n",
    "\n",
    "plt.plot(sklearn_transf[0:20,0],sklearn_transf[0:20,1], 'o', markersize=7, color='blue', alpha=0.5, label='class1')\n",
    "plt.plot(sklearn_transf[20:40,0], sklearn_transf[20:40,1], '^', markersize=7, color='red', alpha=0.5, label='class2')\n",
    "\n",
    "plt.xlabel('x_values')\n",
    "plt.ylabel('y_values')\n",
    "plt.xlim([-4,4])\n",
    "plt.ylim([-4,4])\n",
    "plt.legend()\n",
    "plt.title('Transformed samples with class labels from matplotlib.mlab.PCA()')\n",
    "\n",
    "plt.show()"
   ]
  },
  {
   "cell_type": "code",
   "execution_count": null,
   "metadata": {
    "collapsed": true
   },
   "outputs": [],
   "source": []
  },
  {
   "cell_type": "code",
   "execution_count": 24,
   "metadata": {},
   "outputs": [
    {
     "data": {
      "text/plain": [
       "[<matplotlib.lines.Line2D at 0x22a56b6b9e8>]"
      ]
     },
     "execution_count": 24,
     "metadata": {},
     "output_type": "execute_result"
    },
    {
     "data": {
      "text/plain": [
       "[<matplotlib.lines.Line2D at 0x22a5659f9b0>]"
      ]
     },
     "execution_count": 24,
     "metadata": {},
     "output_type": "execute_result"
    },
    {
     "data": {
      "text/plain": [
       "<matplotlib.text.Text at 0x22a56640048>"
      ]
     },
     "execution_count": 24,
     "metadata": {},
     "output_type": "execute_result"
    },
    {
     "data": {
      "text/plain": [
       "<matplotlib.text.Text at 0x22a567b7ac8>"
      ]
     },
     "execution_count": 24,
     "metadata": {},
     "output_type": "execute_result"
    },
    {
     "data": {
      "text/plain": [
       "(-4, 4)"
      ]
     },
     "execution_count": 24,
     "metadata": {},
     "output_type": "execute_result"
    },
    {
     "data": {
      "text/plain": [
       "(-4, 4)"
      ]
     },
     "execution_count": 24,
     "metadata": {},
     "output_type": "execute_result"
    },
    {
     "data": {
      "text/plain": [
       "<matplotlib.legend.Legend at 0x22a56b75dd8>"
      ]
     },
     "execution_count": 24,
     "metadata": {},
     "output_type": "execute_result"
    },
    {
     "data": {
      "text/plain": [
       "<matplotlib.text.Text at 0x22a567e2048>"
      ]
     },
     "execution_count": 24,
     "metadata": {},
     "output_type": "execute_result"
    },
    {
     "data": {
      "image/png": "[encoded data removed]",
      "text/plain": [
       "<matplotlib.figure.Figure at 0x22a5659f978>"
      ]
     },
     "metadata": {},
     "output_type": "display_data"
    },
    {
     "data": {
      "text/plain": [
       "[<matplotlib.lines.Line2D at 0x22a56bffeb8>]"
      ]
     },
     "execution_count": 24,
     "metadata": {},
     "output_type": "execute_result"
    },
    {
     "data": {
      "text/plain": [
       "[<matplotlib.lines.Line2D at 0x22a54371b00>]"
      ]
     },
     "execution_count": 24,
     "metadata": {},
     "output_type": "execute_result"
    },
    {
     "data": {
      "text/plain": [
       "(-4, 4)"
      ]
     },
     "execution_count": 24,
     "metadata": {},
     "output_type": "execute_result"
    },
    {
     "data": {
      "text/plain": [
       "(-4, 4)"
      ]
     },
     "execution_count": 24,
     "metadata": {},
     "output_type": "execute_result"
    },
    {
     "data": {
      "text/plain": [
       "<matplotlib.text.Text at 0x22a53fb6e48>"
      ]
     },
     "execution_count": 24,
     "metadata": {},
     "output_type": "execute_result"
    },
    {
     "data": {
      "text/plain": [
       "<matplotlib.text.Text at 0x22a56baeef0>"
      ]
     },
     "execution_count": 24,
     "metadata": {},
     "output_type": "execute_result"
    },
    {
     "data": {
      "text/plain": [
       "<matplotlib.legend.Legend at 0x22a56c077f0>"
      ]
     },
     "execution_count": 24,
     "metadata": {},
     "output_type": "execute_result"
    },
    {
     "data": {
      "text/plain": [
       "<matplotlib.text.Text at 0x22a56be00b8>"
      ]
     },
     "execution_count": 24,
     "metadata": {},
     "output_type": "execute_result"
    },
    {
     "data": {
      "image/png": "[encoded data removed]",
      "text/plain": [
       "<matplotlib.figure.Figure at 0x22a56b63240>"
      ]
     },
     "metadata": {},
     "output_type": "display_data"
    }
   ],
   "source": [
    "sklearn_transf = sklearn_transf * (-1)\n",
    "\n",
    "# sklearn.decomposition.PCA\n",
    "plt.plot(sklearn_transf[0:20,0],sklearn_transf[0:20,1], 'o', markersize=7, color='blue', alpha=0.5, label='class1')\n",
    "plt.plot(sklearn_transf[20:40,0], sklearn_transf[20:40,1], '^', markersize=7, color='red', alpha=0.5, label='class2')\n",
    "plt.xlabel('x_values')\n",
    "plt.ylabel('y_values')\n",
    "plt.xlim([-4,4])\n",
    "plt.ylim([-4,4])\n",
    "plt.legend()\n",
    "plt.title('Transformed samples via sklearn.decomposition.PCA')\n",
    "plt.show()\n",
    "\n",
    "# step by step PCA\n",
    "plt.plot(transformed[0,0:20], transformed[1,0:20], 'o', markersize=7, color='blue', alpha=0.5, label='class1')\n",
    "plt.plot(transformed[0,20:40], transformed[1,20:40], '^', markersize=7, color='red', alpha=0.5, label='class2')\n",
    "plt.xlim([-4,4])\n",
    "plt.ylim([-4,4])\n",
    "plt.xlabel('x_values')\n",
    "plt.ylabel('y_values')\n",
    "plt.legend()\n",
    "plt.title('Transformed samples step by step approach')\n",
    "plt.show()"
   ]
  },
  {
   "cell_type": "markdown",
   "metadata": {},
   "source": [
    "#### Grandmother explanation of PCA"
   ]
  },
  {
   "cell_type": "markdown",
   "metadata": {},
   "source": [
    "Imagine a big family dinner, where everybody starts asking you about PCA. First you explain it to your great-grandmother; then to you grandmother; then to your mother; then to your spouse; finally, to your daughter (who is a mathematician). Each time the next person is less of a layman. Here is how the conversation might go.\n",
    "\n",
    "Great-grandmother: I heard you are studying \"Pee-See-Ay\". I wonder what that is...\n",
    "\n",
    "You: Ah, it's just a method of summarizing some data. Look, we have some wine bottles standing here on the table. We can describe each wine by its colour, by how strong it is, by how old it is, and so on (see this very nice visualization of wine properties taken from here). We can compose a whole list of different characteristics of each wine in our cellar. But many of them will measure related properties and so will be redundant. If so, we should be able to summarize each wine with fewer characteristics! This is what PCA does.\n",
    "\n",
    "Grandmother: This is interesting! So this PCA thing checks what characteristics are redundant and discards them?\n",
    "\n",
    "You: Excellent question, granny! No, PCA is not selecting some characteristics and discarding the others. Instead, it constructs some new characteristics that turn out to summarize our list of wines well. Of course these new characteristics are constructed using the old ones; for example, a new characteristic might be computed as wine age minus wine acidity level or some other combination like that (we call them linear combinations).\n",
    "\n",
    "In fact, PCA finds the best possible characteristics, the ones that summarize the list of wines as well as only possible (among all conceivable linear combinations). This is why it is so useful.\n",
    "\n",
    "Mother: Hmmm, this certainly sounds good, but I am not sure I understand. What do you actually mean when you say that these new PCA characteristics \"summarize\" the list of wines?\n",
    "\n",
    "You: I guess I can give two different answers to this question. First answer is that you are looking for some wine properties (characteristics) that strongly differ across wines. Indeed, imagine that you come up with a property that is the same for most of the wines. This would not be very useful, wouldn't it? Wines are very different, but your new property makes them all look the same! This would certainly be a bad summary. Instead, PCA looks for properties that show as much variation across wines as possible.\n",
    "\n",
    "The second answer is that you look for the properties that would allow you to predict, or \"reconstruct\", the original wine characteristics. Again, imagine that you come up with a property that has no relation to the original characteristics; if you use only this new property, there is no way you could reconstruct the original ones! This, again, would be a bad summary. So PCA looks for properties that allow to reconstruct the original characteristics as well as possible.\n",
    "\n",
    "Surprisingly, it turns out that these two aims are equivalent and so PCA can kill two birds with one stone.\n",
    "\n",
    "Spouse: But darling, these two \"goals\" of PCA sound so different! Why would they be equivalent?\n",
    "\n",
    "You: Hmmm. Perhaps I should make a little drawing (takes a napkin and starts scribbling). Let us pick two wine characteristics, perhaps wine darkness and alcohol content -- I don't know if they are correlated, but let's imagine that they are. Here is what a scatter plot of different wines could look like:\n",
    "\n",
    "PCA exemplary data\n",
    "\n",
    "Each dot in this \"wine cloud\" shows one particular wine. You see that the two properties (x and y on this figure) are correlated. A new property can be constructed by drawing a line through the center of this wine cloud and projecting all points onto this line. This new property will be given by a linear combination w1x+w2y, where each line corresponds to some particular values of w1 and w2.\n",
    "\n",
    "Now look here very carefully -- here is how these projections look like for different lines (red dots are projections of the blue dots):\n",
    "\n",
    "PCA animation: variance and reconstruction error\n",
    "\n",
    "As I said before, PCA will find the \"best\" line according to two different criteria of what is the \"best\". First, the variation of values along this line should be maximal. Pay attention to how the \"spread\" (we call it \"variance\") of the red dots changes while the line rotates; can you see when it reaches maximum? Second, if we reconstruct the original two characteristics (position of a blue dot) from the new one (position of a red dot), the reconstruction error will be given by the length of the connecting red line. Observe how the length of these red lines changes while the line rotates; can you see when the total length reaches minimum?\n",
    "\n",
    "If you stare at this animation for some time, you will notice that \"the maximum variance\" and \"the minimum error\" are reached at the same time, namely when the line points to the magenta ticks I marked on both sides of the wine cloud. This line corresponds to the new wine property that will be constructed by PCA.\n",
    "\n",
    "By the way, PCA stands for \"principal component analysis\" and this new property is called \"first principal component\". And instead of saying \"property\" or \"characteristic\" we usually say \"feature\" or \"variable\".\n",
    "\n",
    "Daughter: Very nice, papa! I think I can see why the two goals yield the same result: it is essentially because of the Pythagoras theorem, isn't it? Anyway, I heard that PCA is somehow related to eigenvectors and eigenvalues; where are they on this picture?\n",
    "\n",
    "You: Brilliant observation. Mathematically, the spread of the red dots is measured as the average squared distance from the center of the wine cloud to each red dot; as you know, it is called the variance. On the other hand, the total reconstruction error is measured as the average squared length of the corresponding red lines. But as the angle between red lines and the black line is always 90∘, the sum of these two quantities is equal to the average squared distance between the center of the wine cloud and each blue dot; this is precisely Pythagoras theorem. Of course this average distance does not depend on the orientation of the black line, so the higher the variance the lower the error (because their sum is constant). This hand-wavy argument can be made precise (see here).\n",
    "\n",
    "By the way, you can imagine that the black line is a solid rod and each red line is a spring. The energy of the spring is proportional to its squared length (this is known in physics as the Hooke's law), so the rod will orient itself such as to minimize the sum of these squared distances. I made a simulation of how it will look like, in the presence of some viscous friction:\n",
    "\n",
    "PCA animation: pendulum\n",
    "\n",
    "Regarding eigenvectors and eigenvalues. You know what a covariance matrix is; in my example it is a 2×2 matrix that is given by\n",
    "(1.070.630.630.64).\n",
    "What this means is that the variance of the x variable is 1.07, the variance of the y variable is 0.64, and the covariance between them is 0.63. As it is a square symmetric matrix, it can be diagonalized by choosing a new orthogonal coordinate system, given by its eigenvectors (incidentally, this is called spectral theorem); corresponding eigenvalues will then be located on the diagonal. In this new coordinate system, the covariance matrix is diagonal and looks like that:\n",
    "(1.52000.19),\n",
    "meaning that the correlation between points is now zero. It becomes clear that the variance of any projection will be given by a weighted average of the eigenvalues (I am only sketching the intuition here). Consequently, the maximum possible variance (1.52) will be achieved if we simply take the projection on the first coordinate axis. It follows that the direction of the first principal component is given by the first eigenvector of the covariance matrix. (More details here.)\n",
    "\n",
    "You can see this on the rotating figure as well: there is a gray line there orthogonal to the black one; together they form a rotating coordinate frame. Try to notice when the blue dots become uncorrelated in this rotating frame. The answer, again, is that it happens precisely when the black line points at the magenta ticks. Now I can tell you how I found them: they mark the direction of the first eigenvector of the covariance matrix, which in this case is equal to (0.81,0.58)."
   ]
  },
  {
   "cell_type": "markdown",
   "metadata": {},
   "source": [
    "#### Why PCA is useful"
   ]
  },
  {
   "cell_type": "markdown",
   "metadata": {},
   "source": [
    "PCA is the simplest of the true eigenvector-based multivariate analyses. Often, its operation can be thought of as revealing the internal structure of the data in a way that best explains the variance in the data. If a multivariate dataset is visualised as a set of coordinates in a high-dimensional data space (1 axis per variable), PCA can supply the user with a lower-dimensional picture, a projection of this object when viewed from its most informative viewpoint. This is done by **using only the first few principal components so that the dimensionality of the transformed data is reduced.**\n",
    "\n"
   ]
  },
  {
   "cell_type": "code",
   "execution_count": null,
   "metadata": {
    "collapsed": true
   },
   "outputs": [],
   "source": []
  },
  {
   "cell_type": "markdown",
   "metadata": {},
   "source": [
    "#### Eigenvector explanation"
   ]
  },
  {
   "cell_type": "markdown",
   "metadata": {
    "collapsed": true
   },
   "source": [
    "To understand why you encounter eigenvalues/eigenvectors everywhere, you must first understand why you encounter matrices and vectors everywhere.\n",
    "\n",
    "In a vast number of situations, the objects you study and the stuff you can do with them relate to vectors and linear transformations, which are represented as matrices.\n",
    "\n",
    "So, in many many interesting situations, important relations are expressed as\n",
    "y⃗ =Mx⃗ \n",
    "where y⃗  and x⃗  are vectors and M is a matrix. This ranges from systems of linear equations you have to solve (which occurs virtually everywhere in science and engineering) to more sophisticated engineering problems (finite element simulations). It also is the foundation for (a lot of) quantum mechanics. It is further used to describe the typical geometric transformations you can do with vector graphics and 3D graphics in computer games.\n",
    "\n",
    "Now, it is generally not straight forward to look at some matrix M and immediately tell what it is going to do when you multiply it with some vector x⃗ . Also, in the study of iterative algorithms you need to know something about higher powers of the matrix M, i.e. Mk=M⋅M⋅...M, k times. This is a bit awkward and costly to compute in a naive fashion.\n",
    "\n",
    "For a lot of matrices, you can find special vectors with a very simple relationship between the vector x⃗  itself, and the vector y⃗ =Mx. For example, if you look at the 2x2 matrix (0110), you see that the vector (11) when multiplied with the matrix will just give you that vector again!\n",
    "\n",
    "For such a vector, it is very easy to see what Mx⃗  looks like, and even what Mkx⃗  looks like, since, obviously, repeated application won't change it.\n",
    "\n",
    "This observation is generalized by the concept of eigenvectors. An eigenvector of a matrix M is any vector x⃗  that only gets scaled (i.e. just multiplied by a number) when multiplied with M. Formally,\n",
    "Mx⃗ =λx⃗ \n",
    "for some number λ (real or complex depending on the matrices you are looking at).\n",
    "\n",
    "So, if your matrix M describes a system of some sort, the eigenvectors are those vectors that, when they go through the system, are changed in a very easy way. If M, for example, describes geometric operations, then M could, in principle, stretch and rotate your vectors. But eigenvectors only get stretched, not rotated.\n",
    "\n",
    "Reference; https://math.stackexchange.com/questions/36815/a-simple-explanation-of-eigenvectors-and-eigenvalues-with-big-picture-ideas-of"
   ]
  },
  {
   "cell_type": "code",
   "execution_count": null,
   "metadata": {
    "collapsed": true
   },
   "outputs": [],
   "source": []
  }
 ],
 "metadata": {
  "kernelspec": {
   "display_name": "Python 3",
   "language": "python",
   "name": "python3"
  },
  "language_info": {
   "codemirror_mode": {
    "name": "ipython",
    "version": 3
   },
   "file_extension": ".py",
   "mimetype": "text/x-python",
   "name": "python",
   "nbconvert_exporter": "python",
   "pygments_lexer": "ipython3",
   "version": "3.6.2"
  }
 },
 "nbformat": 4,
 "nbformat_minor": 2
}
